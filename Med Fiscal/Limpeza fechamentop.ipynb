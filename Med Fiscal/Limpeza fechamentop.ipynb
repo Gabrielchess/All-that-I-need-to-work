{
 "cells": [
  {
   "cell_type": "code",
   "execution_count": 17,
   "id": "6ed8bfb5",
   "metadata": {},
   "outputs": [],
   "source": [
    "import pandas as pd\n",
    "import matplotlib.pyplot as plt\n",
    "import numpy as np\n",
    "import os"
   ]
  },
  {
   "cell_type": "code",
   "execution_count": 21,
   "id": "8f18fff6",
   "metadata": {},
   "outputs": [],
   "source": [
    "def Fechamento(listaDeDF, formato, abaPlanilha, cabecalho):\n",
    "    for i in range(len(listaDeDF)):\n",
    "        temp_df = pd.read_excel(listaDeDF[i]+formato,sheet_name = abaPlanilha,header = cabecalho)\n",
    "        \n",
    "        dataframes_list.append(temp_df)\n",
    "                \n",
    "    foo = pd.concat(dataframes_list)\n",
    "    foo = foo.reset_index(drop = True)\n",
    "    \n",
    "    return foo"
   ]
  },
  {
   "cell_type": "code",
   "execution_count": 22,
   "id": "c15e9f1f",
   "metadata": {},
   "outputs": [],
   "source": [
    "dfs = ['Fechamento Fiscal GC','Fechamento Fiscal IRA','Fechamento Fiscal LP','Fechamento Fiscal RIP']"
   ]
  },
  {
   "cell_type": "code",
   "execution_count": 24,
   "id": "6d7cdf73",
   "metadata": {},
   "outputs": [
    {
     "data": {
      "text/plain": [
       "Index(['Unnamed: 0', 'DATA', 'Prod. Líquida dia (m³)',\n",
       "       'Volume bruto observado (GOV-m³)', 'Temperatura do líquido (°C)',\n",
       "       'Temperatura ambiente (°C)', 'Temperatura de Laboratório (°C)',\n",
       "       'Correção do efeito da temperatura no aço (CTSh)', 'API lido',\n",
       "       'API ( 60° F)', 'Densidade Corrigida', 'FCV', 'BSW %',\n",
       "       'Água na emulsão (m³)',\n",
       "       'NSV - Volume líquido nas condições padrões 20° C e 1 atm',\n",
       "       'Gás Fiscal (20°C e 1atm) (m³):', 'Medição (20°C e 1 atm) (m³)',\n",
       "       'Gás Fiscal de Queima (20°C e 1atm) (m³):',\n",
       "       'Gás Fiscal de Compressão (20°C e 1atm) (m³):', 'MovingAvarege', 'Data',\n",
       "       'Prod. Bruta (mm)', 'Prod. Líquida mm)', 'Volume total (TOV-m³)',\n",
       "       'Volume bruto sem água (m³)', 'Água livre (FW-m³)',\n",
       "       'Temperatura base (Tb-°F)', 'Densidade à 60° (Arredondada)',\n",
       "       'Temperatura do líquido (F)', 'Temperatura ambiente (F)',\n",
       "       'Tank shell temperature-TSh (°F)', 'API',\n",
       "       'Temperatura de laboratório (°C)', 'Temperatura do líquido (°C).1',\n",
       "       'Gross Standard volume - GSV', 'Carregamento (m³)',\n",
       "       'Prod. Líquida dia (bbl)', 'Observações', 'Codigo Valvula Entrada 01',\n",
       "       'Ruptura Valcula Entrada', 'Operador Valvula Entrada 01',\n",
       "       'Codigo Valvula Entrada 02', 'Instalação Valvula de Entrada',\n",
       "       'Operador Valvula Entrada 03', 'Prod. Líquida (mm)', 'Prod. Bruta (cm)',\n",
       "       'Prod. Líquida (cm)'],\n",
       "      dtype='object')"
      ]
     },
     "execution_count": 24,
     "metadata": {},
     "output_type": "execute_result"
    }
   ],
   "source": [
    "dataframes_list = []\n",
    "foo = Fechamento(dfs,'.xlsx','Sheet1',0)\n",
    "foo.columns"
   ]
  },
  {
   "cell_type": "code",
   "execution_count": null,
   "id": "5999c149",
   "metadata": {},
   "outputs": [],
   "source": []
  }
 ],
 "metadata": {
  "kernelspec": {
   "display_name": "Python 3",
   "language": "python",
   "name": "python3"
  },
  "language_info": {
   "codemirror_mode": {
    "name": "ipython",
    "version": 3
   },
   "file_extension": ".py",
   "mimetype": "text/x-python",
   "name": "python",
   "nbconvert_exporter": "python",
   "pygments_lexer": "ipython3",
   "version": "3.8.8"
  }
 },
 "nbformat": 4,
 "nbformat_minor": 5
}
