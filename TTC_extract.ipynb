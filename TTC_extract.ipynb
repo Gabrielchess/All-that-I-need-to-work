{
 "cells": [
  {
   "cell_type": "code",
   "execution_count": 3,
   "metadata": {
    "scrolled": true
   },
   "outputs": [],
   "source": [
    "import pandas as pd\n",
    "import numpy as np\n",
    "import re\n",
    "from datetime import date\n",
    "import readchar\n",
    "import re\n",
    "from pdfminer.pdfinterp import PDFResourceManager, PDFPageInterpreter\n",
    "from pdfminer.converter import TextConverter\n",
    "from pdfminer.layout import LAParams\n",
    "from pdfminer.pdfpage import PDFPage\n",
    "from io import StringIO\n",
    "\n",
    "def convert_pdf_to_txt(path):\n",
    "    rsrcmgr = PDFResourceManager()\n",
    "    retstr = StringIO()\n",
    "    laparams = LAParams()\n",
    "    device = TextConverter(rsrcmgr, retstr, laparams=laparams)\n",
    "    fp = open(path, 'rb')\n",
    "    interpreter = PDFPageInterpreter(rsrcmgr, device)\n",
    "    password = \"\"\n",
    "    maxpages = 0    \n",
    "    caching = True\n",
    "    pagenos=set()\n",
    "\n",
    "    for page in PDFPage.get_pages(fp, pagenos, maxpages=maxpages, password=password,caching=caching, check_extractable=True):\n",
    "        interpreter.process_page(page)\n",
    "\n",
    "\n",
    "    text = retstr.getvalue()\n",
    "\n",
    "    fp.close()\n",
    "    device.close()\n",
    "    retstr.close()\n",
    "    return text\n",
    "\n",
    "Boleto_TTC = convert_pdf_to_txt('BOL 21932.pdf')\n",
    "Boleto_TTC = re.sub('\\n',' ',Boleto_TTC)\n",
    "\n",
    "NF_TTC = convert_pdf_to_txt('NFs 21932 HINDALCO.pdf')\n",
    "NF_TTC = re.sub('\\n',' ',NF_TTC)"
   ]
  },
  {
   "cell_type": "code",
   "execution_count": 6,
   "metadata": {},
   "outputs": [
    {
     "data": {
      "text/plain": [
       "'PREFEITURA DA CIDADE DO RIO DE JANEIRO  SECRETARIA MUNICIPAL  DE FAZENDA  NOTA FISCAL DE SERVIÇOS ELETRÔNICA - NFS-e  - NOTA CARIOCA -  PRESTADOR DE SERVIÇOS  Número da nota 21932     Data e Hora da Emissão: 08/03/2021 11:25:03 Código de verificação  3LND-JEPF  Insc. Estadual :  85730533  Insc. Municipal: 1978560  01089179000168  CNPJ: Nome / Razão Social: Nome Fantasia :  Endereço :  AVN BRASIL 3666--CAJU- CEP:20930040 Municipio :   TTC LOGISTICA LTDA  RIO DE JANEIRO  TTC LOGISTICA   Fone/Fax: 32951501  UF :  RJ  E-mail: nfs-eletronica@ttclogistica.com.br  17.720.994/0001-13  TOMADOR DE SERVIÇOS  Insc. Municipal:  Insc. Estadual :  HINDALCO DO BRASIL INDUSTRIA E COMERCIO DE ALUMINA  AV AV. AMERICO RENE GIANETTI S/N-SARAMENHA-  CEP:35400000 OURO PRETO       - MG  E-mail: lucas.magalhaes@adityabirla.com  UF :   Fone/Fax:  CPF/CNPJ: Razão Social: Endereço: Municipio :   OVACAO/ESTUFAGEM CNTR 07X20 ( 241ISZ1703034PROJETO 21129) - R$ 7.736,82  DISCRIMINAÇÃO DOS SERVIÇOS  Suspensao de PIS e COFINS de acordo com o disposto no Art. 3 da IN SRF 241/2002.  Suspensao de PIS e COFINS de acordo com o disposto nos Paragrafos 6A, 7, 8 e 9 do Artigo 40 da Lei 10.865/2004.  VALOR DA NOTA = (R$):  7.736,82  Legenda:  20.01.22 - SERVIÇO DE ESTIVA CONFERENCIA E COMGENERES EM PORTOS 11.04.02 - CARGA E/OU DESCARGA DE BENS 11.04.01 - ARMAZENAMENTO, GUARDA OU DEPÓSITO DE BENS 14.01.30 - CONSERTO DE EQUIPAMENTOS 14.05.06 - LAVAGEM 16.01.11 - TRANSPORTE RODOVIÁRIO MUNICIPAL DE CARGA  Desconto Incond (R$): 0,00  Base de Cálculo (R$):  7.736,82  Alíquota(%): 5  Valor do ISS (R$):  Credito p/ IPTU (R$):  386,84  0,00  Código Serviço Prestado:  200122 Deduções (R$):  0,00  OUTRAS INFORMAÇÕES  - Esta NFS- e foi emitida com respaldo na lei nº 5.098 de 15/10/2009 e no Decr eto nº 32.250 d 11/05/2010 - PROCON- RJ : Rua da Ajuda, 5 - - Data de Vencimento do ISS desta NFS - e 08/03/2021 - Esta NFS- e não gera Credito para Abatimento no IPTU - Esta NFS- e substitui o RPS nº 21945 Serie 01, emitido em 08/03/2021   Subsolo , www.procon.rj.gov.br  \\x0c'"
      ]
     },
     "execution_count": 6,
     "metadata": {},
     "output_type": "execute_result"
    }
   ],
   "source": [
    "NF_TTC"
   ]
  },
  {
   "cell_type": "code",
   "execution_count": 12,
   "metadata": {},
   "outputs": [
    {
     "data": {
      "text/plain": [
       "' 21932 '"
      ]
     },
     "execution_count": 12,
     "metadata": {},
     "output_type": "execute_result"
    }
   ],
   "source": [
    "#Numero da Nota\n",
    "Num_Nota = re.findall(r'[\\s+]?[0-9]{5}\\s+', NF_TTC)\n",
    "Num_Nota[0]\n",
    "#Num_Nota = re.sub('\\s','',Num_Nota)\n",
    "\n",
    "\n",
    "# #Data de Emissão\n",
    "# Emissao_Nota = re.findall(r'[0-9]{2}/[0-9]{2}/[0-9]{4}', NF_TTC)\n",
    "# Emissao_Nota = Emissao_Nota[0]\n",
    "\n",
    "# #Valor da NF\n",
    "# Valor_Nota = re.findall(r'(?=VALOR DA NOTA\\s+).+?(?=Legenda)', NF_TTC)\n",
    "# Valor_Nota = Valor_Nota[0]\n",
    "# Valor_Nota = re.findall(r'(?=[0-9]).+?(?=\\s)', Valor_Nota)\n",
    "# Valor_Nota = Valor_Nota[0]\n",
    "\n",
    "# #Nº Containers\n",
    "# Num_Cntr = re.findall(r'\\s[0-9]{2}[X]?[x]?[0-9]{2}\\s', NF_TTC)\n",
    "# Num_Cntr = Num_Cntr[0]\n",
    "# Num_Cntr = re.sub('\\s','',Num_Cntr)\n",
    "# Num_Cntr = re.findall(r'(?=[0-9])[0-9]', Num_Cntr)\n",
    "# Num_Cntr = Num_Cntr[1]\n",
    "\n",
    "# #Invoice\n",
    "# Invoice_Nota = re.findall(r'(?=CNTR.+).+?(?=\\))', NF_TTC)\n",
    "# Invoice_Nota = Invoice_Nota[0]\n",
    "# Invoice_Nota = re.findall(r'\\s[0-9]{5}', Invoice_Nota)\n",
    "# Invoice_Nota = Invoice_Nota[0]\n",
    "# Invoice_Nota = re.findall(r'[0-9]{5}', Invoice_Nota)\n",
    "# Invoice_Nota = Invoice_Nota[0]"
   ]
  },
  {
   "cell_type": "code",
   "execution_count": 11,
   "metadata": {},
   "outputs": [],
   "source": [
    "#Valor do Boleto\n",
    "Valor_Bol = re.findall(r'(?=Valor do Documento\\s+).+?(?=\\s+\\(-\\))', Boleto_TTC)\n",
    "Valor_Bol = Valor_Bol[0]\n",
    "Valor_Bol = re.findall(r'(?=[0-9]).+', Valor_Bol)\n",
    "Valor_Bol = Valor_Bol[0]\n",
    "\n",
    "#Vencimento do boleto\n",
    "Venc_Bol = re.findall(r'(?=Vencimento\\s+).+?(?=\\s+[A-Z])', Boleto_TTC)\n",
    "Venc_Bol = Venc_Bol[0]\n",
    "Venc_Bol = re.findall(r'(?=[0-9]).+', Venc_Bol)\n",
    "Venc_Bol = Venc_Bol[0]\n",
    "\n",
    "#Numero do boleto\n",
    "Num_Bol = re.findall(r'\\s[0-9]{5}\\s.+?(?=\\s)', Boleto_TTC)\n",
    "Num_Bol = Num_Bol[0]\n",
    "Num_Bol = re.sub('\\s','',Num_Bol)\n",
    "Num_Bol = re.sub('Uso','',Num_Bol)"
   ]
  },
  {
   "cell_type": "code",
   "execution_count": 12,
   "metadata": {},
   "outputs": [],
   "source": [
    "TTC = {'INVOICE': Invoice_Nota, 'NF': Num_Bol, 'Valor da NF': Valor_Bol, 'Emissão': Emissao_Nota, 'VENCIMENTO': Venc_Bol, 'QUANTIDADE CONTAINERS': Num_Cntr,'del': [3]}\n",
    "TTC = pd.DataFrame(data=TTC)\n",
    "TTC = TTC.drop(TTC.columns[[6]], axis=1, inplace=False)"
   ]
  },
  {
   "cell_type": "code",
   "execution_count": 13,
   "metadata": {},
   "outputs": [],
   "source": [
    "TTC_automatico = pd.read_excel('TTC_Tabela_automatica.xlsx')\n",
    "TTC_automatico = pd.concat([TTC_automatico, TTC[['INVOICE','NF','Valor da NF','Emissão','VENCIMENTO','QUANTIDADE CONTAINERS']]],ignore_index=True)\n",
    "#TTC_automatico = TTC_automatico.drop(TTC.columns[[0]], axis=1, inplace=False)\n",
    "\n",
    "TTC_automatico.to_excel('TTC_Tabela_automatica.xlsx',index = False)"
   ]
  },
  {
   "cell_type": "code",
   "execution_count": null,
   "metadata": {},
   "outputs": [],
   "source": []
  },
  {
   "cell_type": "code",
   "execution_count": null,
   "metadata": {},
   "outputs": [],
   "source": []
  },
  {
   "cell_type": "markdown",
   "metadata": {},
   "source": [
    "Compile aqui o Programa Completo!"
   ]
  },
  {
   "cell_type": "code",
   "execution_count": 19,
   "metadata": {},
   "outputs": [],
   "source": [
    "#Numero da Nota\n",
    "Num_Nota = re.findall(r'\\s[0-9]{5}[\\s+]?', NF_TTC)\n",
    "Num_Nota = Num_Nota[0]\n",
    "Num_Nota = re.sub('\\s','',Num_Nota)\n",
    "\n",
    "#Data de Emissão\n",
    "Emissao_Nota = re.findall(r'[0-9]{2}/[0-9]{2}/[0-9]{4}', NF_TTC)\n",
    "Emissao_Nota = Emissao_Nota[0]\n",
    "\n",
    "#Valor da NF\n",
    "Valor_Nota = re.findall(r'(?=VALOR DA NOTA\\s+).+?(?=Legenda)', NF_TTC)\n",
    "Valor_Nota = Valor_Nota[0]\n",
    "Valor_Nota = re.findall(r'(?=[0-9]).+?(?=\\s)', Valor_Nota)\n",
    "Valor_Nota = Valor_Nota[0]\n",
    "\n",
    "#Nº Containers\n",
    "Num_Cntr = re.findall(r'\\s[0-9]{2}[X]?[x]?[0-9]{2}\\s', NF_TTC)\n",
    "Num_Cntr = Num_Cntr[0]\n",
    "Num_Cntr = re.sub('\\s','',Num_Cntr)\n",
    "Num_Cntr = re.findall(r'(?=[0-9])[0-9]', Num_Cntr)\n",
    "Num_Cntr = Num_Cntr[1]\n",
    "\n",
    "#Invoice\n",
    "Invoice_Nota = re.findall(r'(?=CNTR.+).+?(?=\\))', NF_TTC)\n",
    "Invoice_Nota = Invoice_Nota[0]\n",
    "Invoice_Nota = re.findall(r'\\s[0-9]{5}', Invoice_Nota)\n",
    "Invoice_Nota = Invoice_Nota[0]\n",
    "Invoice_Nota = re.findall(r'[0-9]{5}', Invoice_Nota)\n",
    "Invoice_Nota = Invoice_Nota[0]\n",
    "\n",
    "#Valor do Boleto\n",
    "Valor_Bol = re.findall(r'(?=Valor do Documento\\s+).+?(?=\\s+\\(-\\))', Boleto_TTC)\n",
    "Valor_Bol = Valor_Bol[0]\n",
    "Valor_Bol = re.findall(r'(?=[0-9]).+', Valor_Bol)\n",
    "Valor_Bol = Valor_Bol[0]\n",
    "\n",
    "#Vencimento do boleto\n",
    "Venc_Bol = re.findall(r'(?=Vencimento\\s+).+?(?=\\s+[A-Z])', Boleto_TTC)\n",
    "Venc_Bol = Venc_Bol[0]\n",
    "Venc_Bol = re.findall(r'(?=[0-9]).+', Venc_Bol)\n",
    "Venc_Bol = Venc_Bol[0]\n",
    "\n",
    "#Numero do boleto\n",
    "Num_Bol = re.findall(r'\\s[0-9]{5}\\s.+?(?=\\s)', Boleto_TTC)\n",
    "Num_Bol = Num_Bol[0]\n",
    "Num_Bol = re.sub('\\s','',Num_Bol)\n",
    "Num_Bol = re.sub('Uso','',Num_Bol)\n",
    "\n",
    "TTC = {'INVOICE': Invoice_Nota, 'NF': Num_Bol, 'Valor da NF': Valor_Bol, 'Emissão': Emissao_Nota, 'VENCIMENTO': Venc_Bol, 'QUANTIDADE CONTAINERS': Num_Cntr,'del': [3]}\n",
    "TTC = pd.DataFrame(data=TTC)\n",
    "TTC = TTC.drop(TTC.columns[[6]], axis=1, inplace=False)\n",
    "\n",
    "TTC_automatico = pd.read_excel('TTC_Tabela_automatica.xlsx')\n",
    "TTC_automatico = pd.concat([TTC_automatico, TTC[['INVOICE','NF','Valor da NF','Emissão','VENCIMENTO','QUANTIDADE CONTAINERS']]],ignore_index=True)\n",
    "#TTC_automatico = TTC_automatico.drop(TTC.columns[[0]], axis=1, inplace=False)\n",
    "\n",
    "TTC_automatico.to_excel('TTC_Tabela_automatica.xlsx',index = False)"
   ]
  },
  {
   "cell_type": "code",
   "execution_count": null,
   "metadata": {},
   "outputs": [],
   "source": []
  },
  {
   "cell_type": "code",
   "execution_count": null,
   "metadata": {},
   "outputs": [],
   "source": []
  }
 ],
 "metadata": {
  "kernelspec": {
   "display_name": "Python 3",
   "language": "python",
   "name": "python3"
  },
  "language_info": {
   "codemirror_mode": {
    "name": "ipython",
    "version": 3
   },
   "file_extension": ".py",
   "mimetype": "text/x-python",
   "name": "python",
   "nbconvert_exporter": "python",
   "pygments_lexer": "ipython3",
   "version": "3.8.8"
  }
 },
 "nbformat": 4,
 "nbformat_minor": 2
}
